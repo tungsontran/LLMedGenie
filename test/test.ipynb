{
 "cells": [
  {
   "cell_type": "code",
   "execution_count": 9,
   "metadata": {},
   "outputs": [
    {
     "name": "stdout",
     "output_type": "stream",
     "text": [
      "21,19,20,1\n"
     ]
    }
   ],
   "source": [
    "from data_validator import MedicalTranscriptValidator\n",
    "import json \n",
    "with open(\"./output/output_vanilla.json\", \"r\") as file:\n",
    "    content = file.read().replace(\"][\", \",\")\n",
    "    sequences = json.loads(content)\n",
    "\n",
    "validator = MedicalTranscriptValidator()\n",
    "transcripts = validator.validate(sequences) \n",
    "print(f'{validator.valid_json},{validator.invalid_json},{validator.valid_field},{validator.invalid_field}')\n",
    "\n",
    "with open(\"./output/output_vanilla.json\", \"w\") as file:\n",
    "    json.dump(sequences, file, ensure_ascii = False, indent=2)\n",
    "\n",
    "with open(\"./output/validated_vanilla.json\", \"w\") as file:\n",
    "    json.dump(transcripts, file, ensure_ascii = False, indent=2)"
   ]
  },
  {
   "cell_type": "code",
   "execution_count": 11,
   "metadata": {},
   "outputs": [
    {
     "name": "stdout",
     "output_type": "stream",
     "text": [
      "21,19,20,1\n"
     ]
    }
   ],
   "source": [
    "from data_validator import MedicalTranscriptValidator\n",
    "import json \n",
    "with open(\"./output/output_peft.json\", \"r\") as file:\n",
    "    content = file.read().replace(\"][\", \",\")\n",
    "    sequences = json.loads(content)\n",
    "\n",
    "validator = MedicalTranscriptValidator()\n",
    "transcripts = validator.validate(sequences) \n",
    "print(f'{validator.valid_json},{validator.invalid_json},{validator.valid_field},{validator.invalid_field}')\n",
    "\n",
    "with open(\"./output/output_peft.json\", \"w\") as file:\n",
    "    json.dump(sequences, file, ensure_ascii = False, indent=2)\n",
    "\n",
    "with open(\"./output/validated_peft.json\", \"w\") as file:\n",
    "    json.dump(transcripts, file, ensure_ascii = False, indent=2)"
   ]
  },
  {
   "cell_type": "code",
   "execution_count": 15,
   "metadata": {},
   "outputs": [
    {
     "name": "stdout",
     "output_type": "stream",
     "text": [
      "23,17,23,0\n"
     ]
    }
   ],
   "source": [
    "from data_validator import MedicalTranscriptValidator\n",
    "import json \n",
    "with open(\"./output/output_vanilla_lowtemp.json\", \"r\") as file:\n",
    "    content = file.read().replace(\"][\", \",\")\n",
    "    sequences = json.loads(content)\n",
    "\n",
    "validator = MedicalTranscriptValidator()\n",
    "transcripts = validator.validate(sequences) \n",
    "print(f'{validator.valid_json},{validator.invalid_json},{validator.valid_field},{validator.invalid_field}')\n",
    "\n",
    "with open(\"./output/output_vanilla_lowtemp.json\", \"w\") as file:\n",
    "    json.dump(sequences, file, ensure_ascii = False, indent=2)\n",
    "\n",
    "with open(\"./output/validated_vanilla_lowtemp.json\", \"w\") as file:\n",
    "    json.dump(transcripts, file, ensure_ascii = False, indent=2)"
   ]
  },
  {
   "cell_type": "code",
   "execution_count": 16,
   "metadata": {},
   "outputs": [
    {
     "name": "stdout",
     "output_type": "stream",
     "text": [
      "17,23,17,0\n"
     ]
    }
   ],
   "source": [
    "from data_validator import MedicalTranscriptValidator\n",
    "import json \n",
    "with open(\"./output/output_peft_lowtemp.json\", \"r\") as file:\n",
    "    content = file.read().replace(\"][\", \",\")\n",
    "    sequences = json.loads(content)\n",
    "\n",
    "validator = MedicalTranscriptValidator()\n",
    "transcripts = validator.validate(sequences) \n",
    "print(f'{validator.valid_json},{validator.invalid_json},{validator.valid_field},{validator.invalid_field}')\n",
    "\n",
    "with open(\"./output/output_peft_lowtemp.json\", \"w\") as file:\n",
    "    json.dump(sequences, file, ensure_ascii = False, indent=2)\n",
    "\n",
    "with open(\"./output/validated_peft_lowtemp.json\", \"w\") as file:\n",
    "    json.dump(transcripts, file, ensure_ascii = False, indent=2)"
   ]
  }
 ],
 "metadata": {
  "kernelspec": {
   "display_name": "gpt",
   "language": "python",
   "name": "python3"
  },
  "language_info": {
   "codemirror_mode": {
    "name": "ipython",
    "version": 3
   },
   "file_extension": ".py",
   "mimetype": "text/x-python",
   "name": "python",
   "nbconvert_exporter": "python",
   "pygments_lexer": "ipython3",
   "version": "3.9.18"
  }
 },
 "nbformat": 4,
 "nbformat_minor": 2
}
